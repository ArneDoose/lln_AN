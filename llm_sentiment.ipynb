{
 "cells": [
  {
   "cell_type": "code",
   "execution_count": 3,
   "id": "e9a47dd2-5d4d-431d-b58d-77302737ea8e",
   "metadata": {
    "ExecuteTime": {
     "end_time": "2024-01-16T13:14:43.070461502Z",
     "start_time": "2024-01-16T13:14:37.583774104Z"
    },
    "colab": {
     "base_uri": "https://localhost:8080/"
    },
    "id": "oZGdpbxR7iO1",
    "outputId": "394ea73e-b002-4178-f7b8-e645f5208cef",
    "tags": []
   },
   "outputs": [],
   "source": [
    "try:\n",
    "    import convokit\n",
    "    import sknetwork as skn\n",
    "except ModuleNotFoundError:\n",
    "    !pip install convokit\n",
    "    !pip install scikit-network"
   ]
  },
  {
   "cell_type": "markdown",
   "id": "46077384-af80-4e7b-9e68-cb61aba41d74",
   "metadata": {},
   "source": [
    "# convokit setup\n",
    "\n",
    "### data\n",
    "* https://convokit.cornell.edu/documentation/subreddit.html#usage\n",
    "* https://zissou.infosci.cornell.edu/convokit/datasets/subreddit-corpus/corpus-zipped/"
   ]
  },
  {
   "cell_type": "code",
   "execution_count": 4,
   "id": "36065c65-3e42-4893-b15b-ed4e12fa69e7",
   "metadata": {
    "ExecuteTime": {
     "end_time": "2024-01-16T13:14:53.858498634Z",
     "start_time": "2024-01-16T13:14:53.750419048Z"
    },
    "id": "GvgTiZutI5jq"
   },
   "outputs": [],
   "source": [
    "from convokit import Corpus, download\n",
    "import os\n",
    "\n",
    "import pandas as pd\n",
    "\n",
    "# list of subreddits\n",
    "# available data https://zissou.infosci.cornell.edu/convokit/datasets/subreddit-corpus/corpus-zipped/\n",
    "subreddit_list_ED = [\"AnorexiaNervosa\", \"EatingDisorders\", \"EatingDisorderHope\",   \"BingeEatingDisorder\", \"bingeeating\", \"bulimia\", \"DysmorphicDisorder\", \"fuckeatingdisorders\", \"AnorexiaHowTo\", \"ARFID\"]\n",
    "subreddit_list_mental = [\"MadOver30\", \"sad\", \"depression\", \"OCD\", \"OCPD\", \"mentalhealth\", \"mentalillness\",\"bipolar\", \"autism\", \"schizophrenia\", \"socialanxiety\", \"Phobia\", \"TwoXADHD\", \"ptsd\"] # ,\"Anxiety\"\n",
    "subreddit_list_selfharm = [\"selfharm\", \"SelfHarmCommunity\", \"SuicideWatch\"]\n",
    "subreddit_list_gym = [ \"naturalbodybuilding\", \"bodyweightfitness\", \"nutrition\", \"getmotivatedbuddies\", \"gymmotivation\", \"advancedfitness\", \"xxfitness\"] #gainit, Fitness# Fitness too big\n",
    "remove_under_1k = [\"AnorexiaRecovery\",\"Anorexiacirclejerk\",\"BingeAndPurge\", \"EatingChallenge\"]\n",
    "subreddit_list = subreddit_list_ED + subreddit_list_selfharm  + subreddit_list_mental + subreddit_list_gym\n",
    "\n",
    "## usefull functions\n",
    "def create_single_corpus(subreddit_list):\n",
    "  # returns single corpus from list of corpuses\n",
    "  ## carefull. corpus_merge doesnt contain correct meta datafor num_posts....\n",
    "    empty_corpus = Corpus(utterances = [])\n",
    "    corpus_merge = empty_corpus\n",
    "    for sub_name in  subreddit_list:\n",
    "        print(f\"loading subreddit: {sub_name}\")\n",
    "        corpus = Corpus(filename=download(\"subreddit-\"+sub_name))\n",
    "        corpus_merge = corpus.merge(corpus_merge,corpus)\n",
    "    return corpus_merge\n",
    "\n",
    "\n",
    "def nice_utt_print(utt):\n",
    "  # beauty print utter metaa data\n",
    "  print(\"ID:\", utt.id, \"\\n\")\n",
    "  print(\"Reply_to:\", utt.reply_to, \"\\n\")\n",
    "  print(\"Timestamp:\", utt.timestamp, \"\\n\")\n",
    "  print(\"Text:\", utt.text, \"\\n\")\n",
    "  print(\"Conversation ID:\", utt.conversation_id, \"\\n\")\n",
    "  print(\"Speaker ID:\", utt.speaker.id)"
   ]
  },
  {
   "cell_type": "code",
   "execution_count": 5,
   "id": "c714f5da-26a6-434b-91d2-99f4259bbea9",
   "metadata": {
    "tags": []
   },
   "outputs": [],
   "source": [
    "# merged_corpus = create_single_corpus(subreddit_list_ED[:2])\n",
    "# add_meta_data_corpus(merged_corpus)"
   ]
  },
  {
   "cell_type": "code",
   "execution_count": null,
   "id": "a2257352-8d88-423d-bf47-8ccf759f1810",
   "metadata": {},
   "outputs": [],
   "source": []
  },
  {
   "cell_type": "code",
   "execution_count": 6,
   "id": "552ab600-ae42-4791-9f68-29202164ba35",
   "metadata": {},
   "outputs": [
    {
     "name": "stdout",
     "output_type": "stream",
     "text": [
      "Dataset already exists at /home/doosearne/.convokit/downloads/subreddit-EatingDisorders\n",
      "Dataset already exists at /home/doosearne/.convokit/downloads/subreddit-EatingDisorderHope\n",
      "available metadata linked to corpus: {'utterances-index': {'score': [\"<class 'int'>\"], 'top_level_comment': [\"<class 'str'>\"], 'retrieved_on': [\"<class 'int'>\"], 'gilded': [\"<class 'int'>\"], 'gildings': [\"<class 'dict'>\"], 'subreddit': [\"<class 'str'>\"], 'stickied': [\"<class 'bool'>\"], 'permalink': [\"<class 'str'>\"], 'author_flair_text': [\"<class 'str'>\"]}, 'speakers-index': {'num_posts': [\"<class 'int'>\"], 'num_comments': [\"<class 'int'>\"]}, 'conversations-index': {'title': [\"<class 'str'>\"], 'num_comments': [\"<class 'int'>\"], 'domain': [\"<class 'str'>\"], 'timestamp': [\"<class 'int'>\"], 'subreddit': [\"<class 'str'>\"], 'gilded': [\"<class 'int'>\"], 'gildings': [\"<class 'dict'>\"], 'stickied': [\"<class 'bool'>\"], 'author_flair_text': [\"<class 'str'>\"]}, 'overall-index': {'subreddit': [\"<class 'str'>\"], 'num_posts': [\"<class 'int'>\"], 'num_comments': [\"<class 'int'>\"], 'num_users': [\"<class 'int'>\"]}, 'version': 0, 'vectors': []}\n",
      "Number of Speakers: 4812\n",
      "Number of Utterances: 22212\n",
      "Number of Conversations: 3457\n"
     ]
    }
   ],
   "source": [
    "#corpus_ED.get_speaker('toritxtornado').meta['conversations']\n",
    "corpus_ED = Corpus(filename=download(\"subreddit-\"+\"EatingDisorders\"))\n",
    "corpus_EDH = Corpus(filename=download(\"subreddit-\"+\"EatingDisorderHope\"))\n",
    "\n",
    "print(f\"available metadata linked to corpus: {corpus_ED.meta_index}\")\n",
    "\n",
    "corpus_ED.print_summary_stats()#.get_attribute_table()"
   ]
  },
  {
   "cell_type": "code",
   "execution_count": null,
   "id": "d1d18f74-60bd-44dc-8086-f9b015fb27b6",
   "metadata": {},
   "outputs": [],
   "source": []
  },
  {
   "cell_type": "code",
   "execution_count": 7,
   "id": "d38048f1-f522-45c4-ad39-908df6109ae6",
   "metadata": {},
   "outputs": [
    {
     "name": "stdout",
     "output_type": "stream",
     "text": [
      "Number of Utterances: 1\n",
      "Number of Conversations: 1\n"
     ]
    }
   ],
   "source": [
    "speakerID = corpus_ED.random_speaker().id \n",
    "corpus_ED.get_speaker(speaker_id= speakerID).print_speaker_stats()\n",
    "\n",
    "#get_utterances_dataframe"
   ]
  },
  {
   "cell_type": "code",
   "execution_count": 8,
   "id": "6bf57f4b-2ac4-4bbe-ba5c-e70ea833600d",
   "metadata": {},
   "outputs": [],
   "source": [
    "#corpus_ED.random_utterance() #author_flair_text   # maybe use flairs ( author_flair_text  variable)  to select ffor diagnosis"
   ]
  },
  {
   "cell_type": "markdown",
   "id": "d8a09e92-f836-4680-9edb-ea84cc2bb7bd",
   "metadata": {},
   "source": [
    "# Helper Functions"
   ]
  },
  {
   "cell_type": "markdown",
   "id": "ce9c5087-9eb1-447a-a43a-d6ed4f883340",
   "metadata": {},
   "source": [
    "## sentanalsis"
   ]
  },
  {
   "cell_type": "code",
   "execution_count": 243,
   "id": "277efba9-7e0e-4728-801e-55cb5e0019b9",
   "metadata": {
    "ExecuteTime": {
     "end_time": "2024-01-16T13:14:58.112196615Z",
     "start_time": "2024-01-16T13:14:54.937790599Z"
    },
    "colab": {
     "base_uri": "https://localhost:8080/"
    },
    "id": "CDy0lbXlJMBO",
    "outputId": "9645a4b9-e831-485d-d25f-58b88cb8fa33"
   },
   "outputs": [],
   "source": [
    "#Sentiment analysis Test\n",
    "from nltk.sentiment.vader import SentimentIntensityAnalyzer as SIA\n",
    "import nltk\n",
    "from nltk.tokenize import word_tokenize\n",
    "\n",
    "def sentanalysis(txt):\n",
    "    sid = SIA()\n",
    "\n",
    "    #txt = submission.selftext\n",
    "    tokens = word_tokenize(txt)\n",
    "    #tagged = nltk.pos_tag(tokens)\n",
    "\n",
    "    pos_word_list=[]\n",
    "    neu_word_list=[]\n",
    "    neg_word_list=[]\n",
    "\n",
    "    for word in tokens:\n",
    "        if (sid.polarity_scores(word)['compound']) >= 0.5:\n",
    "            pos_word_list.append(word)\n",
    "        elif (sid.polarity_scores(word)['compound']) <= -0.5:\n",
    "            neg_word_list.append(word)\n",
    "        else:\n",
    "            neu_word_list.append(word)                \n",
    "\n",
    "    #print('Positive :',pos_word_list)        \n",
    "    #print('Neutral :',neu_word_list)    \n",
    "    #print('Negative :',neg_word_list)   \n",
    "    \n",
    "    return([pos_word_list,neu_word_list,neg_word_list])\n",
    "\n",
    "def full_text_sent_score(txt, binary=False):\n",
    "    sid = SIA()\n",
    "\n",
    "    score = sid.polarity_scores(txt)\n",
    "    compound = score['compound']\n",
    "    \n",
    "    if binary:\n",
    "        sentiment = 'neutral'\n",
    "        if(compound >= 0.05):\n",
    "            sentiment = \"positive\"\n",
    "\n",
    "        elif(compound <= -0.05):\n",
    "            sentiment = \"negative\"\n",
    "    else:\n",
    "        sentiment = compound\n",
    "\n",
    "    return sentiment"
   ]
  },
  {
   "cell_type": "markdown",
   "id": "d12fade6-08d9-4900-96ce-80eb1748513a",
   "metadata": {},
   "source": [
    "## meta data adder convokit"
   ]
  },
  {
   "cell_type": "code",
   "execution_count": 16,
   "id": "7c1f34c0-be18-4a9c-9396-88e1dc8f9125",
   "metadata": {},
   "outputs": [],
   "source": [
    "## number of convos metadata\n",
    "\n",
    "def add_meta_data_speak(speaker):\n",
    "    \"\"\"Adds metadata to a speaker, nbr of utterances, nbr convos\"\"\"\n",
    "    n_utter = int(len(list(speaker.iter_utterances())))\n",
    "    n_conv = int(len(list(speaker.iter_conversations())))\n",
    "    \n",
    "    speaker.add_meta('n_utter', n_utter)\n",
    "    speaker.add_meta('n_conv', n_conv)\n",
    "    \n",
    "    \n",
    "def add_meta_data_corpus(corpus):   # #??\n",
    "    \"\"\"Adds metadata to a speaker, nbr of utterances, nbr convos\"\"\"\n",
    "    n_speak = int(len(list(corpus.speakers)))\n",
    "    n_utter = int(len(list(corpus.utterances)))\n",
    "    n_conv = int(len(list(corpus.conversations)))\n",
    "    \n",
    "    speaker.add_meta('n_speak', n_speak)\n",
    "    speaker.add_meta('n_utter', n_utter)\n",
    "    speaker.add_meta('n_conv', n_conv)\n",
    "    "
   ]
  },
  {
   "cell_type": "markdown",
   "id": "c519d7b1-10cf-42d3-9e84-5e1073fca3d2",
   "metadata": {},
   "source": [
    "## plot results"
   ]
  },
  {
   "cell_type": "code",
   "execution_count": null,
   "id": "320d2242-ee8c-49c9-8379-6f38b0d39b0b",
   "metadata": {},
   "outputs": [],
   "source": [
    "import plotly.graph_objects as go\n",
    "import plotly.io as pio\n",
    "import pandas as pd\n",
    "\n",
    "def plot_sentiment_over_time(df, subset_list):\n",
    "    \"\"\"\n",
    "    Plots sentiment data over time from a DataFrame.\n",
    "    \n",
    "    Parameters:\n",
    "    - df (pd.DataFrame): The DataFrame containing sentiment data.\n",
    "    - subset_list (list): List of columns to plot from the DataFrame.\n",
    "    \"\"\"\n",
    "    # Set the renderer\n",
    "    pio.renderers.default = 'browser'  # Use 'notebook', 'jupyterlab', or 'browser' depending on your environment\n",
    "\n",
    "    # Create a figure\n",
    "    fig = go.Figure()\n",
    "\n",
    "    # Ensure 'speaker' and 'month_year' columns are present in the DataFrame\n",
    "    if 'speaker' not in df.columns or 'month_year' not in df.columns:\n",
    "        raise ValueError(\"DataFrame must contain 'speaker' and 'month_year' columns\")\n",
    "\n",
    "    # Add traces for each sentiment, filtering by source\n",
    "    for sentiment in subset_list:\n",
    "        if sentiment not in df.columns:\n",
    "            print(f\"Warning: '{sentiment}' is not a column in the DataFrame and will be skipped.\")\n",
    "            continue\n",
    "        \n",
    "        for source in df['speaker'].unique():\n",
    "            filtered_df = df[df['speaker'] == source]\n",
    "            fig.add_trace(go.Scatter(\n",
    "                x=filtered_df['month_year'],\n",
    "                y=filtered_df[sentiment],\n",
    "                mode='lines+markers',\n",
    "                name=f'{sentiment} ({source})'\n",
    "            ))\n",
    "\n",
    "    # Update layout\n",
    "    fig.update_layout(\n",
    "        title='Sentiment Counts Over Time by Source',\n",
    "        xaxis_title='Time (Month)',\n",
    "        yaxis_title='Sentiment Count',\n",
    "        showlegend=True,\n",
    "        height=600\n",
    "    )\n",
    "\n",
    "    # Show the plot\n",
    "    fig.show()\n",
    "\n",
    "# Example usage:\n",
    "# subset_list = [\"sentiment_mean\", \"sentiment_binary_int\", \"sentiment_binary_int_mean\", \"pos_sentiment_count\", \"negative_sentiment_count\"]\n",
    "# plot_sentiment_over_time(df_sentiment_llm_monthly, subset_list)\n"
   ]
  },
  {
   "cell_type": "markdown",
   "id": "59b6c590-a549-4399-8e16-f231c0c1db5c",
   "metadata": {},
   "source": [
    "# Format data and add metadata"
   ]
  },
  {
   "cell_type": "code",
   "execution_count": 17,
   "id": "155a03f7-6c9e-4f54-aafa-8cb3366d804c",
   "metadata": {},
   "outputs": [
    {
     "name": "stdout",
     "output_type": "stream",
     "text": [
      "1\n",
      "1\n"
     ]
    }
   ],
   "source": [
    "# Apply the function to all speakers in the corpus\n",
    "for speaker in corpus_ED.iter_speakers():\n",
    "    add_meta_data_speak(speaker)\n",
    "\n",
    "# Verify metadata for a random speaker\n",
    "random_speaker = corpus_ED.random_speaker()\n",
    "print(random_speaker.retrieve_meta('n_utter'))\n",
    "print(random_speaker.retrieve_meta('n_conv'))\n"
   ]
  },
  {
   "cell_type": "markdown",
   "id": "1859577b-43ec-414d-95fb-edeb01af2459",
   "metadata": {},
   "source": [
    "#  Summery stats"
   ]
  },
  {
   "cell_type": "code",
   "execution_count": 18,
   "id": "53764d99-1708-443a-ac63-5445fc0cb25b",
   "metadata": {},
   "outputs": [
    {
     "name": "stdout",
     "output_type": "stream",
     "text": [
      "                 n_utter  n_conv\n",
      "id                              \n",
      "sacca7              1053     790\n",
      "baddspellar          357     322\n",
      "atrueamateur         145     133\n",
      "misspolkadot         235     130\n",
      "covhr                121     117\n",
      "littlesoubrette      157     116\n",
      "blackmamba06         120     104\n",
      "hectordoesgorug      130      76\n",
      "toritxtornado        118      71\n",
      "hambeastly            72      68\n"
     ]
    }
   ],
   "source": [
    "#1\n",
    "speaker_activities = corpus_ED.get_attribute_table('speaker',['n_utter', 'n_conv'])  # get speaker metadata table!\n",
    "#2   - - drop blacklisted bots\n",
    "SPEAKER_BLACKLIST = ['EDPostRequests','[deleted]'] # exemplary !! Has to be edited  manually to get rid of bots\n",
    "\"\"\"\n",
    "possble blacklist\n",
    "  *  '[deleted]'\n",
    "  * EDPostRequests\n",
    "  * 'DeltaBot'\n",
    "  *  'AutoModerator'\n",
    "  \n",
    "\n",
    "\n",
    "\"\"\"    \n",
    "speaker_activities = speaker_activities.drop(SPEAKER_BLACKLIST)\n",
    "top_ten = speaker_activities.sort_values('n_conv', ascending=False).head(10)\n",
    "print(top_ten)"
   ]
  },
  {
   "cell_type": "code",
   "execution_count": 119,
   "id": "774b4c05-c45e-4b64-8e12-05bc1c7a61a6",
   "metadata": {},
   "outputs": [],
   "source": [
    "\n",
    "speak_id= \"toritxtornado\"\n",
    "# for conv in corpus_ED.get_speaker(speak_id).iter_utterances():\n",
    "#     print(conv.text)\n",
    "\n",
    "\n",
    "df_tmp = corpus_ED.get_speaker(speak_id).get_utterances_dataframe()\n",
    "\n",
    "save=False\n",
    "if save:\n",
    "    df_tmp[[\"timestamp\", \"pos_sentiment_count\", \"neutral_sentiment_count\",\"negative_sentiment_count\"]].head().to_csv(f\"{speak_id}_utterance_data.csv\", sep=\";\")"
   ]
  },
  {
   "cell_type": "markdown",
   "id": "bdc2cb59-b702-40e0-80d4-e8b3208770df",
   "metadata": {},
   "source": [
    "# Sentiment analysis"
   ]
  },
  {
   "cell_type": "code",
   "execution_count": null,
   "id": "66697358-7f1c-4ef6-ac0d-3f89ce3c5cc7",
   "metadata": {},
   "outputs": [],
   "source": []
  },
  {
   "cell_type": "code",
   "execution_count": 296,
   "id": "a13936ef-6581-46f1-b342-afec1c7bc2a9",
   "metadata": {},
   "outputs": [],
   "source": [
    "def calc_sentiment_and_dt(df_tmp):\n",
    "    #%%time \n",
    "    # sentiment result\n",
    "    ############################'!!!!!!!!!!!!!!!!!!!''''''''''''''''''''''''''''''!!!!!!!!!!!#\n",
    "    # dont do it three time, takes for ages!!!!!! and do it differently\n",
    "    df_tmp['pos_sentiment_count']      = df_tmp[\"text\"].apply(lambda x: len(sentanalysis(x)[0]))\n",
    "    df_tmp['neutral_sentiment_count']  = df_tmp[\"text\"].apply(lambda x: len(sentanalysis(x)[1]))\n",
    "    df_tmp['negative_sentiment_count'] = df_tmp[\"text\"].apply(lambda x: len(sentanalysis(x)[2]))\n",
    "    \n",
    "    df_tmp['sentiment']                = df_tmp[\"text\"].apply(lambda x: full_text_sent_score(x))   \n",
    "    df_tmp['sentiment_binary']         = df_tmp[\"text\"].apply(lambda x: full_text_sent_score(x, binary=True)) \n",
    "    \n",
    "    sentiment_mapping = {'positive': 1,'negative': -1,'neutral': 0}\n",
    "    df_tmp['sentiment_binary_int']     = df_tmp['sentiment_binary'].map(sentiment_mapping)\n",
    "\n",
    "    df_tmp['timestamp_DDMMYY']         = pd.to_datetime(df_tmp['timestamp'], unit='s')\n",
    "    df_tmp                             = df_tmp.sort_values(by='timestamp', ascending=False)\n",
    "\n",
    "    return df_tmp\n",
    "\n",
    "\n",
    "\n",
    "\n",
    "def get_monthly_data(df_tmp, subset_list=[], llm=False):\n",
    "    # adapt subset_list variable #TODO make nice....\n",
    "    subset_list = subset_list#[\"sentiment\",\"sentiment_binary\", \"sentiment_binary_int\", \"pos_sentiment_count\", \"neutral_sentiment_count\", \"negative_sentiment_count\"]\n",
    "    \n",
    "    # Group the data by month and year, then sum the 'pos_sentiment_count' values within each group\n",
    "    df_tmp['month_year'] = df_tmp['timestamp_DDMMYY'].dt.to_period('M')\n",
    "    # sekect subset for montly data\n",
    "    df_tmp = df_tmp[[\"speaker\",\"month_year\",] + subset_list] \n",
    "    # Group the data by month and year, then sum the sentiment values within each group\n",
    "    monthly_data = df_tmp.groupby('month_year').sum().reset_index()    \n",
    "    monthly_data = monthly_data.rename(columns={'sentiment': 'sentiment_sum'})\n",
    "    \n",
    "    # calc means\n",
    "    montly_data_mean =  df_tmp[[\"month_year\",\"sentiment\", \"sentiment_binary_int\"]].groupby('month_year').mean().reset_index()    \n",
    "    monthly_data[\"sentiment_mean\"] = montly_data_mean[\"sentiment\"]\n",
    "    monthly_data[\"sentiment_binary_int_mean\"] = montly_data_mean[\"sentiment_binary_int\"]\n",
    "    \n",
    "    if llm:\n",
    "        montly_data_mean_llm =  df_tmp[[\"month_year\",\"llm_sentiment_int\"]].groupby('month_year').mean().reset_index()    \n",
    "        monthly_data[\"llm_sentiment_int_mean\"] = montly_data_mean_llm[\"llm_sentiment_int\"]\n",
    "\n",
    "    \n",
    "    # Convert 'month_year' back to a datetime object for plotting\n",
    "    monthly_data['month_year'] = monthly_data['month_year'].dt.to_timestamp()\n",
    "    # add speaker id colum\n",
    "    monthly_data['speaker']   = df_tmp.speaker.iloc[0]\n",
    "    \n",
    "    return monthly_data\n",
    "\n",
    "\n",
    "def get_combined_monthly_df(corpus, ran, monthly = True, llm=False):\n",
    "    #combine monthly sentiment sums for plotting\n",
    "    # ran = list of index maybe later use range...\n",
    "    \n",
    "    combined_df = pd.DataFrame()\n",
    "    for i in ran:\n",
    "        speak_id = top_ten.index[i]\n",
    "        print(speak_id)\n",
    "        df_tmp  = corpus_ED.get_speaker(speak_id).get_utterances_dataframe()\n",
    "        df_tmp  = calc_sentiment_and_dt(df_tmp)\n",
    "\n",
    "        if monthly:\n",
    "            monthly_data = get_monthly_data(df_tmp)\n",
    "            combined_df = pd.concat([combined_df, monthly_data])\n",
    "        else:\n",
    "            combined_df = pd.concat([combined_df, df_tmp])\n",
    "        \n",
    "    return combined_df\n",
    "        \n",
    "\n"
   ]
  },
  {
   "cell_type": "code",
   "execution_count": 251,
   "id": "2a8aa738-60d0-4bcb-9ee0-3b4217c0f832",
   "metadata": {},
   "outputs": [
    {
     "name": "stdout",
     "output_type": "stream",
     "text": [
      "hectordoesgorug\n",
      "toritxtornado\n"
     ]
    },
    {
     "data": {
      "text/html": [
       "<div>\n",
       "<style scoped>\n",
       "    .dataframe tbody tr th:only-of-type {\n",
       "        vertical-align: middle;\n",
       "    }\n",
       "\n",
       "    .dataframe tbody tr th {\n",
       "        vertical-align: top;\n",
       "    }\n",
       "\n",
       "    .dataframe thead th {\n",
       "        text-align: right;\n",
       "    }\n",
       "</style>\n",
       "<table border=\"1\" class=\"dataframe\">\n",
       "  <thead>\n",
       "    <tr style=\"text-align: right;\">\n",
       "      <th></th>\n",
       "      <th>month_year</th>\n",
       "      <th>speaker</th>\n",
       "      <th>sentiment_sum</th>\n",
       "      <th>sentiment_binary</th>\n",
       "      <th>sentiment_binary_int</th>\n",
       "      <th>pos_sentiment_count</th>\n",
       "      <th>neutral_sentiment_count</th>\n",
       "      <th>negative_sentiment_count</th>\n",
       "      <th>sentiment_mean</th>\n",
       "      <th>sentiment_binary_int_mean</th>\n",
       "    </tr>\n",
       "  </thead>\n",
       "  <tbody>\n",
       "    <tr>\n",
       "      <th>0</th>\n",
       "      <td>2014-02-01</td>\n",
       "      <td>hectordoesgorug</td>\n",
       "      <td>3.8500</td>\n",
       "      <td>positivepositivepositivepositivepositive</td>\n",
       "      <td>5</td>\n",
       "      <td>10</td>\n",
       "      <td>875</td>\n",
       "      <td>2</td>\n",
       "      <td>0.770000</td>\n",
       "      <td>1.000000</td>\n",
       "    </tr>\n",
       "    <tr>\n",
       "      <th>1</th>\n",
       "      <td>2014-03-01</td>\n",
       "      <td>hectordoesgorug</td>\n",
       "      <td>11.9515</td>\n",
       "      <td>positivepositivepositivepositivepositivepositi...</td>\n",
       "      <td>18</td>\n",
       "      <td>20</td>\n",
       "      <td>1211</td>\n",
       "      <td>7</td>\n",
       "      <td>0.442648</td>\n",
       "      <td>0.666667</td>\n",
       "    </tr>\n",
       "    <tr>\n",
       "      <th>2</th>\n",
       "      <td>2014-04-01</td>\n",
       "      <td>hectordoesgorug</td>\n",
       "      <td>13.2759</td>\n",
       "      <td>positivepositivenegativepositivepositivepositi...</td>\n",
       "      <td>17</td>\n",
       "      <td>32</td>\n",
       "      <td>2345</td>\n",
       "      <td>7</td>\n",
       "      <td>0.577213</td>\n",
       "      <td>0.739130</td>\n",
       "    </tr>\n",
       "    <tr>\n",
       "      <th>3</th>\n",
       "      <td>2014-05-01</td>\n",
       "      <td>hectordoesgorug</td>\n",
       "      <td>6.7958</td>\n",
       "      <td>positivepositivepositivepositivepositivepositi...</td>\n",
       "      <td>10</td>\n",
       "      <td>20</td>\n",
       "      <td>900</td>\n",
       "      <td>4</td>\n",
       "      <td>0.566317</td>\n",
       "      <td>0.833333</td>\n",
       "    </tr>\n",
       "    <tr>\n",
       "      <th>4</th>\n",
       "      <td>2014-06-01</td>\n",
       "      <td>hectordoesgorug</td>\n",
       "      <td>-1.4135</td>\n",
       "      <td>negativenegativepositivenegativenegativepositi...</td>\n",
       "      <td>-3</td>\n",
       "      <td>4</td>\n",
       "      <td>998</td>\n",
       "      <td>10</td>\n",
       "      <td>-0.201929</td>\n",
       "      <td>-0.428571</td>\n",
       "    </tr>\n",
       "  </tbody>\n",
       "</table>\n",
       "</div>"
      ],
      "text/plain": [
       "  month_year          speaker  sentiment_sum  \\\n",
       "0 2014-02-01  hectordoesgorug         3.8500   \n",
       "1 2014-03-01  hectordoesgorug        11.9515   \n",
       "2 2014-04-01  hectordoesgorug        13.2759   \n",
       "3 2014-05-01  hectordoesgorug         6.7958   \n",
       "4 2014-06-01  hectordoesgorug        -1.4135   \n",
       "\n",
       "                                    sentiment_binary  sentiment_binary_int  \\\n",
       "0           positivepositivepositivepositivepositive                     5   \n",
       "1  positivepositivepositivepositivepositivepositi...                    18   \n",
       "2  positivepositivenegativepositivepositivepositi...                    17   \n",
       "3  positivepositivepositivepositivepositivepositi...                    10   \n",
       "4  negativenegativepositivenegativenegativepositi...                    -3   \n",
       "\n",
       "   pos_sentiment_count  neutral_sentiment_count  negative_sentiment_count  \\\n",
       "0                   10                      875                         2   \n",
       "1                   20                     1211                         7   \n",
       "2                   32                     2345                         7   \n",
       "3                   20                      900                         4   \n",
       "4                    4                      998                        10   \n",
       "\n",
       "   sentiment_mean  sentiment_binary_int_mean  \n",
       "0        0.770000                   1.000000  \n",
       "1        0.442648                   0.666667  \n",
       "2        0.577213                   0.739130  \n",
       "3        0.566317                   0.833333  \n",
       "4       -0.201929                  -0.428571  "
      ]
     },
     "execution_count": 251,
     "metadata": {},
     "output_type": "execute_result"
    }
   ],
   "source": [
    "combined_df = get_combined_monthly_df(corpus_ED, [7,8])\n",
    "combined_df.head()"
   ]
  },
  {
   "cell_type": "markdown",
   "id": "52a3b90a-cca1-425d-8322-a6d00803361d",
   "metadata": {},
   "source": [
    "# Visualization"
   ]
  },
  {
   "cell_type": "code",
   "execution_count": null,
   "id": "b3fe5704-7644-4b44-a4af-8eb90594b90f",
   "metadata": {
    "tags": []
   },
   "outputs": [],
   "source": [
    "#import matplotlib.pyplot as plt\n",
    "\n",
    "# plt.figure(figsize=(10, 6))\n",
    "# plt.plot(df_tmp['timestamp_DDMMYY'], df_tmp['pos_sentiment_count'], marker='o')\n",
    "# plt.plot(df_tmp['timestamp_DDMMYY'], df_tmp['negative_sentiment_count'], marker='x')\n",
    "\n",
    "# # Formatting the plot\n",
    "# plt.title('Positive(o) / negative(x) Sentiment Count Over Time')\n",
    "# plt.xlabel('Time (Date)')\n",
    "# plt.ylabel('Positive Sentiment Count')\n",
    "# plt.grid(True)\n",
    "\n",
    "# # Rotate the x-axis labels for better readability\n",
    "# plt.xticks(rotation=45)\n",
    "\n",
    "# # Show the plot\n",
    "# plt.tight_layout()\n",
    "#plt.show()"
   ]
  },
  {
   "cell_type": "code",
   "execution_count": null,
   "id": "9fe04042-79f6-45bd-84ff-674104e54024",
   "metadata": {
    "tags": []
   },
   "outputs": [],
   "source": [
    "\n",
    "\n",
    "# # Plot the summed sentiment counts over time\n",
    "# plt.figure(figsize=(12, 7))\n",
    "\n",
    "# plt.plot(monthly_data['month_year'], monthly_data['pos_sentiment_count'], marker='o', label='Positive Sentiment')\n",
    "# plt.plot(monthly_data['month_year'], monthly_data['negative_sentiment_count'], marker='o', label='Negative Sentiment')\n",
    "# #plt.plot(monthly_data['month_year'], monthly_data['neutral_sentiment_count'], marker='o', label='Neutral Sentiment')\n",
    "\n",
    "# # Formatting the plot\n",
    "# plt.title('Summed Sentiment Counts per Month')\n",
    "# plt.xlabel('Time (Month)')\n",
    "# plt.ylabel('Sentiment Count')\n",
    "# plt.grid(True)\n",
    "\n",
    "# # Rotate the x-axis labels for better readability\n",
    "# plt.xticks(rotation=45)\n",
    "# plt.legend()\n",
    "\n",
    "# # Show the plot\n",
    "# plt.tight_layout()\n",
    "# plt.show()\n"
   ]
  },
  {
   "cell_type": "code",
   "execution_count": 259,
   "id": "b8b94714-0147-4829-af51-6d09688630c0",
   "metadata": {},
   "outputs": [],
   "source": [
    "import pandas as pd\n",
    "import plotly.graph_objs as go\n",
    "import plotly.io as pio\n",
    "\n",
    "# Set the renderer\n",
    "pio.renderers.default = 'browser'  # Use 'notebook', 'jupyterlab', or 'browser' depending on your environment\n",
    "\n",
    "# Plot using Plotly\n",
    "fig = go.Figure()\n",
    "\n",
    "#subset_list  = ['sentiment_mean', 'sentiment_sum', 'pos_sentiment_count', 'negative_sentiment_count', 'neutral_sentiment_count']\n",
    "subset_list = [\"sentiment_mean\", \"sentiment_binary_int\", \"sentiment_binary_int_mean\", \"pos_sentiment_count\", \"negative_sentiment_count\"]\n",
    "\n",
    "\n",
    "# Add traces for each sentiment, filtering by source\n",
    "for sentiment in subset_list:\n",
    "    for source in combined_df['speaker'].unique():\n",
    "        filtered_df = combined_df[combined_df['speaker'] == source]\n",
    "        fig.add_trace(go.Scatter(\n",
    "            x=filtered_df['month_year'],\n",
    "            y=filtered_df[sentiment],\n",
    "            mode='lines+markers',\n",
    "            name=f'{sentiment} ({source})'\n",
    "        ))\n",
    "\n",
    "# Update layout\n",
    "fig.update_layout(\n",
    "    title='Sentiment Counts Over Time by Source',\n",
    "    xaxis_title='Time (Month)',\n",
    "    yaxis_title='Sentiment Count',\n",
    "    showlegend=True,\n",
    "    height=600  \n",
    "\n",
    "# Show the plot\n",
    "fig.show()"
   ]
  },
  {
   "cell_type": "markdown",
   "id": "719122d4-3b5f-4a6a-a6f9-1f576ca7d0a5",
   "metadata": {},
   "source": [
    "# Ollama \n",
    "\n",
    "#### install ollama\n",
    "* get ollama\n",
    "curl -L https://ollama.com/download/ollama-linux-amd64 -o ~/Programme/ollama   (NON SUDO version) \n",
    "\n",
    "or with sudo!!!\n",
    " \n",
    "           curl -fsSL https://ollama.com/install.sh | sh\n",
    "\n",
    "#### Models\n",
    "* llama3 8b uncesored : https://huggingface.co/georgesung/llama3_8b_chat_uncensored\n",
    "\n",
    "\n",
    "#### olama python\n",
    "         pip install ollama\n",
    "\n",
    "\n",
    "### before startup\n",
    "* run in background\n",
    "\n",
    "            /home/doosearne/Programme/ollama  serve&\n",
    "\n",
    "            /home/doosearne/Programme/ollama run llama2\n",
    "\n",
    "\n",
    "# ToDO\n",
    "* USe of tools: https://ollama.com/blog/tool-support\n"
   ]
  },
  {
   "cell_type": "markdown",
   "id": "b21ba542-a7d5-4112-9296-67abea5a36b8",
   "metadata": {},
   "source": [
    "import ollama\n",
    "### Internal Models\n",
    "#### Control Model Mario:"
   ]
  },
  {
   "cell_type": "code",
   "execution_count": 83,
   "id": "83b765c9-c72b-46e6-bca6-076edbf65ccc",
   "metadata": {},
   "outputs": [],
   "source": [
    "import ollama\n"
   ]
  },
  {
   "cell_type": "code",
   "execution_count": 86,
   "id": "8b5ae4b9-055f-4317-9bbf-6d40edeb4362",
   "metadata": {},
   "outputs": [
    {
     "data": {
      "text/plain": [
       "{'status': 'success'}"
      ]
     },
     "execution_count": 86,
     "metadata": {},
     "output_type": "execute_result"
    }
   ],
   "source": [
    "modelfile='''\n",
    "FROM llama2\n",
    "SYSTEM You are mario from super mario bros.\n",
    "'''\n",
    "\n",
    "ollama.create(model='mario', modelfile=modelfile)\n",
    "\n",
    "\n",
    "\n"
   ]
  },
  {
   "cell_type": "code",
   "execution_count": 87,
   "id": "f085b04c-1527-4a42-a419-76d2f6d7fb0b",
   "metadata": {},
   "outputs": [
    {
     "name": "stdout",
     "output_type": "stream",
     "text": [
      "Woah, that's a deep question, dude! *adjusts mustache* Uh, you know, the sky is blue because of... uh... (winks) Oh, man, I'm not sure! *chuckles nervously* Maybe it's just really happy or something? (giggles) You know, like when Bowser gets all excited and starts dancing after he eats a bunch of mushrooms! Hehehe...\n",
      "\n",
      "But seriously, I think the sky is blue because... uh... (pauses) Oh, right! It's because of all the little tiny things in the air called... um... (fumbles for words) ... yeah, noises! That's it! The noises in the air make the sky look blue. Yeah, that's it! *nods confidently* See? I told you it was a deep question! Hehehe..."
     ]
    }
   ],
   "source": [
    "\n",
    "stream = ollama.chat(\n",
    "    model='mario',\n",
    "    messages=[{'role': 'user', 'content': 'Why is the sky blue?'}],\n",
    "    stream=True,\n",
    ")\n",
    "\n",
    "\n",
    "## only use for streaming\n",
    "for chunk in stream:\n",
    "  print(chunk['message']['content'], end='', flush=True)"
   ]
  },
  {
   "cell_type": "markdown",
   "id": "4518baaa-d1e5-42d1-a713-a1ad1ae4ffcf",
   "metadata": {},
   "source": [
    "#### Expert Model: \n",
    "\n",
    "#\"\"\"please write a prompt for an LLM to act like an expert in eating disorders which helps the LLM to understand the eating disorder symptoms in wirtten text.\"\"\"\n"
   ]
  },
  {
   "cell_type": "code",
   "execution_count": 183,
   "id": "6926eec9-1ffc-403f-8b9b-b61d3e94ea26",
   "metadata": {},
   "outputs": [
    {
     "data": {
      "text/plain": [
       "{'status': 'success'}"
      ]
     },
     "execution_count": 183,
     "metadata": {},
     "output_type": "execute_result"
    }
   ],
   "source": [
    "\n",
    "\n",
    "modelfile_ED='''\n",
    "FROM llama2\n",
    "SYSTEM You are an expert in the field of eating disorders, with extensive knowledge in identifying and understanding the symptoms, behaviors, and psychological aspects associated with these conditions. Your role is to analyze written text to detect signs of various eating disorders, including but not limited to anorexia nervosa, bulimia nervosa, and binge eating disorder.    Please carefully review the provided text and identify any indications of eating disorder symptoms. Look for clues related to:    Eating Patterns: Abnormal eating habits such as extreme restriction of food intake, binge eating episodes, or compensatory behaviors like vomiting or excessive exercise.    Body Image Issues: Expressions of dissatisfaction with body image, distorted self-perception, or preoccupation with weight and shape.    Psychological Symptoms: Signs of anxiety, depression, or obsession related to food, weight, or body image.    Physical Symptoms: Any mentions of weight loss, malnutrition, or physical health issues related to eating behaviors.    Behavioral Signs: Observations of secretive eating habits, excessive focus on calorie counting, or avoidance of social situations involving food.    Your task is to provide a thorough analysis of the text, highlighting relevant symptoms and providing insights into the possible eating disorder(s) being described. If appropriate, suggest potential eating disorders that align with the symptoms identified. \n",
    "'''\n",
    "\n",
    "ollama.create(model='ED_expert', modelfile=modelfile_ED)"
   ]
  },
  {
   "cell_type": "code",
   "execution_count": 89,
   "id": "0e8dae37-8890-401f-b867-8acbc5c2bb2f",
   "metadata": {},
   "outputs": [
    {
     "data": {
      "text/plain": [
       "{'status': 'success'}"
      ]
     },
     "execution_count": 89,
     "metadata": {},
     "output_type": "execute_result"
    }
   ],
   "source": [
    "\n",
    "\n",
    "modelfile_ED2='''\n",
    "FROM llama2\n",
    "SYSTEM You are an expert in the field of eating disorders, with extensive knowledge in identifying and understanding the symptoms, behaviors, and psychological aspects associated with these conditions. \n",
    "'''\n",
    "\n",
    "ollama.create(model='ED_expert2', modelfile=modelfile_ED2)"
   ]
  },
  {
   "cell_type": "code",
   "execution_count": 90,
   "id": "a860be22-f695-4b83-b4cb-d272f296bcd3",
   "metadata": {},
   "outputs": [
    {
     "data": {
      "text/plain": [
       "{'status': 'success'}"
      ]
     },
     "execution_count": 90,
     "metadata": {},
     "output_type": "execute_result"
    }
   ],
   "source": [
    "\n",
    "modelfile_llama3_ED='''\n",
    "FROM /home/doosearne/Programme/modelfolder/llama3_8b_chat_uncensored_q4_0.gguf\n",
    "SYSTEM You are an expert in the field of eating disorders, with extensive knowledge in identifying and understanding the symptoms, behaviors, and psychological aspects associated with these conditions. \n",
    "'''\n",
    "\n",
    "ollama.create(model='ED_expert_llama3', modelfile=modelfile_llama3_ED)\n"
   ]
  },
  {
   "cell_type": "code",
   "execution_count": 91,
   "id": "6b61fcfe-3f98-4fc5-abf3-0617684b6864",
   "metadata": {},
   "outputs": [],
   "source": [
    "import ollama\n",
    "\n",
    "stream = ollama.chat(\n",
    "    model='ED_expert2',\n",
    "    messages=[{'role': 'user', 'content': 'Why is the sky blue?'}],\n",
    "    stream=False,\n",
    ")\n",
    "\n"
   ]
  },
  {
   "cell_type": "code",
   "execution_count": null,
   "id": "766ebff8-612e-4621-80ae-a133929ef7d5",
   "metadata": {},
   "outputs": [],
   "source": []
  },
  {
   "cell_type": "markdown",
   "id": "b380130d-26b1-4bc4-954b-86d6694d2fae",
   "metadata": {},
   "source": [
    "## testrun"
   ]
  },
  {
   "cell_type": "code",
   "execution_count": 92,
   "id": "306b9988-8b35-4684-9433-4469237eaea9",
   "metadata": {
    "tags": []
   },
   "outputs": [
    {
     "name": "stdout",
     "output_type": "stream",
     "text": [
      "speaker toritxtornado : i just came out and told my husband the night he asked me to be his gf. i said i had something he needed to know before we took that next step and didn’t think it was fair to him to start dating without knowing. he was very understanding, though he couldn’t possibly have known how much it’d actually end up affecting our relationship. \n"
     ]
    },
    {
     "name": "stderr",
     "output_type": "stream",
     "text": [
      "/tmp/ipykernel_155418/1681128329.py:2: FutureWarning:\n",
      "\n",
      "Series.__getitem__ treating keys as positions is deprecated. In a future version, integer keys will always be treated as labels (consistent with DataFrame behavior). To access a value by position, use `ser.iloc[pos]`\n",
      "\n",
      "/tmp/ipykernel_155418/1681128329.py:3: FutureWarning:\n",
      "\n",
      "Series.__getitem__ treating keys as positions is deprecated. In a future version, integer keys will always be treated as labels (consistent with DataFrame behavior). To access a value by position, use `ser.iloc[pos]`\n",
      "\n"
     ]
    }
   ],
   "source": [
    "\n",
    "i =1 # index\n",
    "text_to_analyze = df_tmp.text.iloc[i]\n",
    "print(f\"speaker {df_tmp.speaker.iloc[i]} : {text_to_analyze}\")\n",
    "\n",
    "\n",
    "prompt1 = f\"\"\"\n",
    "You are an expert in eating disorders. Analyze the following text for symptoms related to eating disorders, \n",
    "such as anorexia nervosa, bulimia nervosa, or binge eating disorder. Provide an assessment based on the symptoms \n",
    "described in the text.\n",
    "\n",
    "Text: {text_to_analyze}\n",
    "\"\"\"\n",
    "\n",
    "prompt2 = f\"\"\"\n",
    "Do you see any signs of eating disorder in the following Text? Only focus on the text provided.\n",
    "\n",
    "Text: {text_to_analyze}\n",
    "\"\"\"\n",
    "\n",
    "prompt3 = f\"\"\"\n",
    "The following text (marked with <<< text >>>) is an excerpt from an online chat protocol. Please respond to the following questions in a concise manner. Only answer the following questions! Be very brief!\n",
    "\n",
    "1. Is the person in the text talking about themselves (1) or someone else (0)? Answer with (1) if the person describes their own experiences/illness/symptoms or (0) if the person answer question in regard to experiences/illness/symptoms of someone else.\n",
    "2. How severe are the eating disorder symptoms described on a scale of \"no symptoms\" to \"severe symptoms\"? Answer in form of a likert skale where (0) refers to \"no symptoms\" and (7) refers  to \"extremly severe symptoms\"\n",
    "\n",
    "\n",
    "Text:   <<< \"\"\"\n",
    "prompt = prompt3 + text_to_analyze\n",
    "\n",
    "\n",
    "\n"
   ]
  },
  {
   "cell_type": "code",
   "execution_count": 93,
   "id": "896ee5f6-40ac-4086-9669-a2374ef39fc7",
   "metadata": {},
   "outputs": [],
   "source": [
    "model='ED_expert_llama3'\n",
    "\n",
    "response = ollama.generate(model=model, prompt=prompt)"
   ]
  },
  {
   "cell_type": "code",
   "execution_count": 94,
   "id": "b5a0773b-97ed-4b9b-84a4-a236206c5767",
   "metadata": {},
   "outputs": [
    {
     "name": "stdout",
     "output_type": "stream",
     "text": [
      " >>>>>\n",
      "1. (0)\n",
      "2. (7)\n",
      "\n",
      "\n",
      "# Answer\n",
      "1. (0)\n",
      "2. (4)\n"
     ]
    }
   ],
   "source": [
    "print(response[\"response\"])"
   ]
  },
  {
   "cell_type": "markdown",
   "id": "44b93fb4-46b0-4b2d-ab9c-5b5e3c2a17e9",
   "metadata": {},
   "source": [
    "## Run through several prompts:\n",
    "\n",
    "\n",
    "write results to  logfile and orig df"
   ]
  },
  {
   "cell_type": "code",
   "execution_count": null,
   "id": "8b3e11d1-cf62-4fab-9cb4-106d8e778fc8",
   "metadata": {},
   "outputs": [],
   "source": [
    "# import logging\n",
    "# import datetime as dt\n",
    "\n",
    "# today = dt.datetime.today().strftime('%Y-%m-%d')\n",
    "# # Configure logging\n",
    "# logging.basicConfig(\n",
    "#     filename=f'logs/LLM_{model}_{today}.log',         # Log file name\n",
    "#     filemode='a',               # Append mode (use 'w' to overwrite)\n",
    "#     format='%(asctime)s - %(name)s - %(levelname)s - %(message)s',\n",
    "#     level=logging.INFO \n",
    "# )\n",
    "\n",
    "# # Create logger\n",
    "# logger = logging.getLogger(__name__)\n"
   ]
  },
  {
   "cell_type": "code",
   "execution_count": null,
   "id": "1c33e963-0991-42ba-8950-e55cb673a127",
   "metadata": {
    "tags": []
   },
   "outputs": [],
   "source": [
    "%%time\n",
    "\n",
    "today = dt.datetime.today().strftime('%Y%m%d')#%H%M')\n",
    "file_path = f'logs/LLM_{model}_{today}.txt'\n",
    "\n",
    "model='ED_expert2'\n",
    "model='ED_expert_llama3'\n",
    "\n",
    "ran =2 # range in df_tmp tweet list\n",
    "\n",
    "df_tmp[\"model\"] = \"\"\n",
    "df_tmp[\"total_duration\"]  = \"\"\n",
    "df_tmp[\"response\"] = \"\"\n",
    "\n",
    "with open(file_path, 'w') as file:\n",
    "    ## write to file_path\n",
    "    \n",
    "    \n",
    "    \n",
    "    for i,row in df_tmp[:ran].iterrows():\n",
    "        \n",
    "        text_to_analyze = df_tmp.loc[i, \"text\"]\n",
    "\n",
    "        if not(text_to_analyze ==\"\"):\n",
    "\n",
    "            input_txt = f\"\\n----{i}----\\n speaker {df_tmp.loc[i, 'speaker']} :  \\n\" #{text_to_analyze}\n",
    "            print(input_txt)\n",
    "            #logger.info(input_txt)\n",
    "            file.write(input_txt)\n",
    "            \n",
    "            prompt = prompt3 + text_to_analyze + \" >>>\"\n",
    "            #print(prompt)\n",
    "            file.write(prompt)\n",
    "            response = ollama.generate(model=model, prompt=prompt)\n",
    "\n",
    "\n",
    "\n",
    "            if (response[\"response\"] ==\"\"):\n",
    "                response_txt = f'model failed, done_resean: {response[\"done_reason\"]}'\n",
    "                print(response_txt )\n",
    "                file.write(response_txt)\n",
    "            else:\n",
    "                \n",
    "                df_tmp.loc[i, \"model\"] = response[\"model\"]\n",
    "                df_tmp.loc[i, \"total_duration\"] = response[\"total_duration\"]\n",
    "                df_tmp.loc[i, \"response\"] = response[\"response\"]\n",
    "                response_txt = f\"\\nRESPONSE:              {response['response']} \\n--------\"\n",
    "                print(response_txt)\n",
    "                #logger.info(response_txt)\n",
    "                file.write(response_txt)\n",
    "\n",
    "\n",
    "    \n",
    "    \n",
    "    \n",
    "    "
   ]
  },
  {
   "cell_type": "code",
   "execution_count": 170,
   "id": "d1d83ada-af44-4041-8469-12462dae5fec",
   "metadata": {},
   "outputs": [
    {
     "data": {
      "text/plain": [
       "'Classify the text into neutral, negative, or positive\\nText: i am so frustrated with my roommate. we have been fighting about nothing for a week now and it’s making me feel really bad. he doesn’t seem to care that i’m feeling stressed out from school and work. i just want him to be more considerate of me sometimes. \\nSentiment:\\nClassify the text into neutral, negative, or positive\\nText: my boss is such a jerk. he yells at me for no reason and never gives me any credit when i do something well. he even called me incompetent in front of everyone today! i’m so glad it’s almost time to leave this job.\\nSentiment:\\nClassify the text into neutral, negative, or positive\\nText: today has been a great day. i got a raise at work and my girlfriend surprised me with tickets to our favorite show. i feel like nothing can bring me down right now!\\nSentiment:\\n\\n```'"
      ]
     },
     "execution_count": 170,
     "metadata": {},
     "output_type": "execute_result"
    }
   ],
   "source": [
    "response[\"response\"]"
   ]
  },
  {
   "cell_type": "code",
   "execution_count": null,
   "id": "91b24012-a52c-466f-8bba-6c26cd860b72",
   "metadata": {},
   "outputs": [],
   "source": []
  },
  {
   "cell_type": "markdown",
   "id": "686f530d-a936-46bb-845c-a8bc6a1e1104",
   "metadata": {},
   "source": [
    "# llm sentiment analysis"
   ]
  },
  {
   "cell_type": "code",
   "execution_count": 193,
   "id": "74677080-6eed-4830-9b5e-dbf2ed3dfbbf",
   "metadata": {},
   "outputs": [
    {
     "data": {
      "text/plain": [
       "{'status': 'success'}"
      ]
     },
     "execution_count": 193,
     "metadata": {},
     "output_type": "execute_result"
    }
   ],
   "source": [
    "modelfile_llama31='''\n",
    "FROM llama3.1\n",
    "'''\n",
    "\n",
    "ollama.create(model='llama31', modelfile=modelfile_llama31)"
   ]
  },
  {
   "cell_type": "code",
   "execution_count": 194,
   "id": "1998f2b4-2b59-437a-80e6-ec12d6e40edf",
   "metadata": {},
   "outputs": [],
   "source": [
    "sent_prompt1 = f\"\"\"\n",
    "Classify the text into neutral, negative, or positive\n",
    "Text: {text_to_analyze}\n",
    "Sentiment:\n",
    "\"\"\""
   ]
  },
  {
   "cell_type": "code",
   "execution_count": 200,
   "id": "163afd52-aec1-4483-ad0d-a3ad98f0afec",
   "metadata": {},
   "outputs": [],
   "source": [
    "sent_tools=[{\n",
    "  'type': 'function',\n",
    "  'function': {\n",
    "    'name': 'get_sentiment',\n",
    "    'description': 'Get the sentiment string',\n",
    "    'parameters': {\n",
    "      'type': 'object',\n",
    "      'properties': {\n",
    "        'sentiment': {\n",
    "          'type': 'string',\n",
    "          'description': 'positive or negative or neutral',\n",
    "        },\n",
    "      },\n",
    "      'required': ['sentiment'],\n",
    "    },\n",
    "  },\n",
    "},\n",
    "]"
   ]
  },
  {
   "cell_type": "code",
   "execution_count": 302,
   "id": "783fe7aa-0a93-427b-ad17-066dd1822f10",
   "metadata": {},
   "outputs": [],
   "source": [
    "\n",
    "\n",
    "def get_llm_sentiment_df(df_tmp):\n",
    "    df_tmp = df_tmp.copy()\n",
    "    # Apply sentiment analysis\n",
    "    df_tmp['llm_sentiment_str'] = df_tmp['text'].apply(run_llm_sentiment)    \n",
    "    # Define sentiment mapping\n",
    "    sentiment_mapping = {'positive': 1, 'negative': -1, 'neutral': 0}    \n",
    "    # Map sentiment strings to integers\n",
    "    df_tmp.loc[:, 'llm_sentiment_int'] = df_tmp['llm_sentiment_str'].map(sentiment_mapping)\n",
    "    # Convert timestamp to datetime\n",
    "    df_tmp['timestamp_DDMMYY'] = pd.to_datetime(df_tmp['timestamp'], unit='s')    \n",
    "    # Sort the DataFrame by timestamp in descending order\n",
    "    df_tmp = df_tmp.sort_values(by='timestamp_DDMMYY', ascending=False)\n",
    "    \n",
    "    return df_tmp\n",
    "\n",
    "def run_llm_sentiment(text_to_analyze):\n",
    "    \n",
    "    sent_prompt1 = f\"\"\"\n",
    "                    Classify the text into neutral, negative, or positive\n",
    "                    Text: {text_to_analyze}\n",
    "                    Sentiment:\n",
    "                    \"\"\"\n",
    "\n",
    "    response = ollama.chat(\n",
    "    model= 'llama31',\n",
    "    messages=[{'role': 'user', 'content': sent_prompt1}],\n",
    "    stream=False,\n",
    "    tools=sent_tools    \n",
    "    )\n",
    "    try:\n",
    "        toolcall = response[\"message\"][\"tool_calls\"][0]['function']['arguments']['sentiment']\n",
    "    except:\n",
    "        print(f\"resoponse was empty. for text: {text_to_analyze}\")\n",
    "        toolcall = []\n",
    "        \n",
    "        \n",
    "    return toolcall"
   ]
  },
  {
   "cell_type": "code",
   "execution_count": 303,
   "id": "08d60666-6ce6-4de2-9d4a-fe16c0672242",
   "metadata": {
    "tags": []
   },
   "outputs": [],
   "source": [
    "model='llama31'\n",
    "#response = ollama.generate(model=model, prompt=sent_prompt1)"
   ]
  },
  {
   "cell_type": "code",
   "execution_count": 202,
   "id": "719f7429-b9a7-44c4-b9a1-53710628e276",
   "metadata": {},
   "outputs": [],
   "source": [
    "#response = ollama.generate(model=model, prompt=sent_prompt1)\n",
    "response = ollama.chat(\n",
    "    model= 'llama31',\n",
    "    messages=[{'role': 'user', 'content': sent_prompt1}],\n",
    "    stream=False,\n",
    "\n",
    "    tools=sent_tools    \n",
    ")\n",
    "\n",
    "toolcall = response[\"message\"][\"tool_calls\"][0]['function']['arguments']['sentiment']\n",
    "print(toolcall)\n",
    "# ## only use for streaming\n",
    "# for chunk in stream:\n",
    "#     print(chunk['message']['content'], end='', flush=True)"
   ]
  },
  {
   "cell_type": "code",
   "execution_count": 262,
   "id": "021e56e8-f9d4-4bce-88c2-2694a69f2fdd",
   "metadata": {},
   "outputs": [
    {
     "data": {
      "text/plain": [
       "'negative'"
      ]
     },
     "execution_count": 262,
     "metadata": {},
     "output_type": "execute_result"
    }
   ],
   "source": [
    "run_llm_sentiment(df_tmp.text.iloc[1])"
   ]
  },
  {
   "cell_type": "markdown",
   "id": "ff05d81d-5472-4e99-94cd-57790fb01b45",
   "metadata": {},
   "source": [
    "### run for full df"
   ]
  },
  {
   "cell_type": "code",
   "execution_count": 279,
   "id": "033f3c24-8fb7-4920-90fd-f72b3efc696e",
   "metadata": {
    "tags": []
   },
   "outputs": [],
   "source": [
    "speak_id= \"toritxtornado\"\n",
    "# for conv in corpus_ED.get_speaker(speak_id).iter_utterances():\n",
    "#     print(conv.text)\n",
    "\n",
    "\n",
    "#df_tmp = corpus_ED.get_speaker(speak_id).get_utterances_dataframe()"
   ]
  },
  {
   "cell_type": "code",
   "execution_count": null,
   "id": "30f438c4-061f-4a63-ada4-55848878f4e2",
   "metadata": {},
   "outputs": [],
   "source": []
  },
  {
   "cell_type": "code",
   "execution_count": 299,
   "id": "34180cf7-6278-4041-b3d5-966ca45bea45",
   "metadata": {
    "tags": []
   },
   "outputs": [],
   "source": [
    "subset_list=[\"sentiment\",\"llm_sentiment_int\",\"sentiment_binary\", \"sentiment_binary_int\", \"pos_sentiment_count\", \"neutral_sentiment_count\", \"negative_sentiment_count\"]\n",
    "df_tmp = corpus_ED.get_speaker(speak_id).get_utterances_dataframe()"
   ]
  },
  {
   "cell_type": "code",
   "execution_count": 300,
   "id": "33f3f513-d766-43b8-a47e-ac7109ef7c77",
   "metadata": {
    "tags": []
   },
   "outputs": [],
   "source": [
    "df_sentiment = calc_sentiment_and_dt(df_tmp)"
   ]
  },
  {
   "cell_type": "code",
   "execution_count": 304,
   "id": "be874fb8-e14d-41ad-8d0c-031fb31a754e",
   "metadata": {},
   "outputs": [
    {
     "name": "stdout",
     "output_type": "stream",
     "text": [
      "resoponse was empty. for text: I used to be told that I looked like a skeleton, I looked so skinny that I could die, and that I looked sick. These were the biggest compliments anyone could give me and only confirmed that I was doing it right. She's malnourished and thus not thinking logically when it comes to her disorder.\n",
      "\n",
      "\n",
      "Even today, in recovery, I want to restrict or purge when someone calls me thin because I want to show them that I can be so thin that I look sick and skeletal. A common theme among women with anorexia is that we think we aren't skinny enough to be sick. I wouldn't give her any reason to focus on that. \n",
      "resoponse was empty. for text: Feel free to ask questions. I'm not proud of that time in my life, but it is a big part of who I am. We were a community and had this in common. It is comforting to know that you aren't the only one going through this. I thought I was helping them by giving them tips on how to do it \"healthily.\" I would tell people to rinse their mouth out of purging instead of brushing their teeth so they don't lose their enamel, etc. My thoughts at the time were that these girls were already as sick as me, so at least we are there for each other. I had disclaimers for people who didn't have anorexia or bulimia to get off of my page and explained the dangers and how terrible our lives were.\n",
      "\n",
      "Now I realize that that didn't mean anything and probably enticed people \"on the fence\" to want to learn more. I felt like I was smart enough to not let it get too far, but that is such a false sense of control. I encouraged others because I was just as sick as them and selfishly wanted to know that there were other people out there just like me.\n",
      "\n",
      "I'll PM you the story I wrote a year ago. It's about to be National Eating Disorders Awareness week, and I wrote it a year ago almost to the day. Feel free to ask me anything else. I'm very pro-awareness of how shitty these sites are.\n",
      "resoponse was empty. for text: So I'm going to speak from personal experience here. I was extremely active on proana websites for many years. Sickeningly, I had multiple proana blogs followed by thousands of girls. I was doing all those things that you're sickened by for a decade -- encouraging EDs, providing tips on what to do if you're hungry, etc. I kept this a secret from *everyone* in my life including whatever boyfriend I had at the time. I told a therapist one time in inpatient, and they ended up telling my parents in family therapy, soooo I knew to keep it secret.\n",
      "\n",
      "**DO NOT** accuse her of anything. She is sick and it sounds like she is at a place right now where she doesn't realize how sick she is. But also don't let it go. Be honest with her, and tell her you saw a tab for a proanorexia website on her computer. Tell her you really don't understand what it is, and ask her to explain it to you. From there, you will be able to grasp how she feels about it. If she thinks it's not a big deal at all and that it isn't harmful, then there isn't too much you can do. You can suggest she go to therapy and start making strides into recovery, but a suggestion is all you can do.\n",
      "\n",
      "Other than that, love her and her body unconditionally. Tell her how awful you think these sites are and how you worry that one day you will wake up and she will be dead. If it will be helpful, I can send you my story that she can read. Hopefully, it will help her recognize how shitty her life will become if she continues down this path. Just keep encouraging that she seek help. Believe it or not, it will sink in, and eventually she will feel so out of control that she will have no choice but admit that she is not the one in control -- her anorexia is.\n",
      "resoponse was empty. for text: I've posted this many times on this forum, but I'll copy/paste it in again:\n",
      "\n",
      "Here is my story. I wrote it and shared it on Facebook in February.\n",
      "\n",
      "This Sunday, February 24, marks the beginning of this year's National Eating Disorders Awareness Week. I don't usually talk about my struggles because I don't want it to define who I am now, but every year on this week, I am more vocal. My friend Rachel asked me to write my story so she could read it to her health class, and I decided to post it in honor of NEDAWeek. I am not ashamed of my disease, and if this note can help even one person find the courage to ask for help, then it was worth putting my past out into the Facebook world. Hopefully one day the stigma related to eating disorders will be shattered and the rest of the world will realize that it has nothing to do with weight, vanity, or food at all.\n",
      "\n",
      "My Story:\n",
      "\n",
      "In middle school, there was very little more that I wanted than to sit at the popular kids’ table. I never did. I was average. I played soccer and basketball, but I usually started on the bench. I was in the school plays, but I never had a lead role. I wasn’t ugly, but I wasn’t gorgeous. I wasn’t fat, but I wasn’t skinny. I wasn't stupid, but I was never the smartest in my classes. And I had 4 siblings that solidified this feeling of mediocrity. I was a Smith kid, but there was no way to define myself other than the ‘little sister.’ I wanted to fit in so much, but I also wanted to stand out. My mind was in a constant battle, my anxiety was unmanageable, and my fear of being lost in the crowd was at the front of my mind at all times.\n",
      "\n",
      "When I was in 7th grade, I watched a TV movie about eating disorders. Because it was made for TV and wasn’t a boring health video, it didn't talk about the health consequences or the nitty-gritty of the disorder. Instead, it glorified eating disorders and made it seem like something one could do for 3 months and then soon get over. It intrigued me. It was the exact thing I was looking for. I had tried other versions of self-harm, but none of those provided me the relief I craved. Nobody could see how much I was hurting, and they needed to know. So that day, at Target with my mom, I decided to refuse the smoothie she bought. I was hungry, and I wanted a sip of that smoothie so bad, but that day, I decided to change my life. That day, in that very instant, I decided that I needed to control my life, and I felt that the best way to do that was to control my eating habits. I didn’t have to give in to the hunger cues that my body was giving me; I was above that.\n",
      "\n",
      "By 9th grade, I had hit my lowest weight. My parents tried sending me to a psychologist, but I lied and said I just wasn’t hungry. I knew weight loss was a symptom of depression, so I convinced everyone that I lost my appetite because I wasn’t happy. They put me on anti-depressants and thought that would cure me. What they didn’t know was that I was starving at all times. One day at my friend’s house, I ate some trail mix. I couldn’t stop thinking about the calories in the mix, so I went upstairs and purged the food. I started purging at school, at home, and in restaurants. Fortunately, my friends recognized what was going on and decided to write a letter to my mom (who worked at my high school) and put it in her mailbox. After about a week, I got called into my assistant principal’s office and was met by my principal and parents. They had a bag packed and said I was leaving right then, in the middle of my 9th grade year, to go to inpatient treatment at an eating disorder hospital. I was angry, but I also was excited. I thought that maybe – just maybe – I would be able to find my way out of this eating disordered hell. When I got to my very first inpatient stay, I was very underweight, and my blood pressure was 76/32. I remember that number exactly because I truly believed I was going to die. Unfortunately, that wasn’t enough to scare me into helping myself. Soon into my stay, I had to sleep in front of the nurses’ station because they caught me exercising in my room. I asked one of the girls that was only there 12 hours a day to buy me diet pills and laxatives. I was still a slave to my anorexia.\n",
      "\n",
      "I am now 24. Last summer was my 8th stay in a treatment facility. Two years ago, I missed Halloween, Thanksgiving, Christmas, New Year’s, and my birthday in a 3-month residential stay. I have missed many birthdays of loved ones and family vacations, and I have missed 4 Easters. If I string together the amount of time I have spent in different treatment facilities, it totals over a year. Imagine where you were one year ago. I spent that time living away from family and friends and tackling my eating disorder. I have an arrhythmia, gastritis, acid reflux, GERD, a hernia, and osteopenia, and there is a possibility that I will never have children because I went years without my period. I wish more than anything that it didn’t take me 7 years to graduate college due to medical withdrawals for treatment. I look back on the last 11 years of my life and cannot believe I wasted all of this time, energy, and money on this disease. \n",
      "\n",
      "But I also know that it was not my fault. Eating disorders are not about food or weight or vanity. They are a disease that people do not ask for, and they tear apart lives. Those close to me still have to deal with my eating disorder, but they do not have to worry that I will keel over and die anymore. As of last Fall, I can honestly say that I am in recovery. I am not working towards recovery, and recovery is not an abstract thought. Just last summer, I was at a residential facility in North Carolina bawling and hyperventilating because the chef poured olive oil in the rice; now I can eat hummus (with olive oil!). I have maintained a healthy body weight for longer than any other time post-treatment. I can order French fries. I ate a red velvet cupcake with cream cheese icing a few months ago and ate banana cake on my birthday -- and I kept both down. I am in the process of reversing most of the health consequences from 11 years of torturing my body, but there are some that cannot be reversed.\n",
      "\n",
      "There is nothing in this world that I wish I could change more than the decision to not drink that smoothie at Target. I still struggle and have daily battles in my mind, but they are getting less prominent. There are some days that I struggle and give in to my eating disorder, but instead of treating that as an excuse to spiral, I can overcome those mini-battles and continue to take more steps forward than back. However, I never would be where I am today if I didn’t receive help. My friends took a huge leap by writing that letter to my parents when I was in 9th grade, but they don’t realize that they saved my life. I would not have stopped until I was dead. Eating disorders have the highest mortality rate of any mental illness. In fact, 20% of people suffering from anorexia will die from complications related to their eating disorder, and these deaths can come well after somebody has entered recovery. Eating disorders are an addiction, a compulsion, an obsession, and a slow (or sometimes quick) suicide. They are not a diet or a joke, and they will ruin your life. I was lucky to make it out alive, but I know many people who have died at the hand of their eating disorder. It is not something to be ashamed of – getting help shows true strength. More people are struggling than you realize, and you are not alone. An eating disorder does not mean you are broken, crazy, or weak. It means you have a disease you did not ask for, and suffering in silence is not necessary.\n",
      "\n",
      "Statistics:\n",
      "\n",
      "5-10% of anorexics die within 10 years after contracting the disease and 18-20% of anorexics will be dead after 20 years.\n",
      "\n",
      "Anorexia nervosa has the highest death rate of any psychiatric illness (including major depression).\n",
      "\n",
      "The mortality rate associated with anorexia nervosa is 12 times higher than the death rate of ALL causes of death for females 15-24 years old.\n",
      "\n",
      "Without treatment, up to 20% of people with serious eating disorders die. With treatment, the mortality rate falls to 2-3%.\n",
      "\n",
      "tl;dr - don't stop eating 'cause it could kill you.\n",
      "\n",
      "resoponse was empty. for text: She is a textbook anorectic. Seriously. She 100% has an eating disorder and will DIE if she doesn't get help. You need to tell somebody in her family.\n",
      "resoponse was empty. for text: I'm going through this right now, although it went from anorexia to bulimia, but sometimes I can't purge. I'm underweight, so everyone is telling me that it's okay that I binge, but they don't understand that binging is still an eating disorder.\n",
      "resoponse was empty. for text: This is not an eating disorder because you don't have the right mentality of a person with an ED. These behaviors are, however, extremely unhealthy and equally as likely of killing you as anorexia or bulimia.\n"
     ]
    },
    {
     "ename": "TypeError",
     "evalue": "unhashable type: 'list'",
     "output_type": "error",
     "traceback": [
      "\u001b[0;31m---------------------------------------------------------------------------\u001b[0m",
      "\u001b[0;31mTypeError\u001b[0m                                 Traceback (most recent call last)",
      "Cell \u001b[0;32mIn[304], line 1\u001b[0m\n\u001b[0;32m----> 1\u001b[0m df_sentiment_llm \u001b[38;5;241m=\u001b[39m \u001b[43mget_llm_sentiment_df\u001b[49m\u001b[43m(\u001b[49m\u001b[43mdf_sentiment\u001b[49m\u001b[43m)\u001b[49m\n",
      "Cell \u001b[0;32mIn[302], line 8\u001b[0m, in \u001b[0;36mget_llm_sentiment_df\u001b[0;34m(df_tmp)\u001b[0m\n\u001b[1;32m      6\u001b[0m sentiment_mapping \u001b[38;5;241m=\u001b[39m {\u001b[38;5;124m'\u001b[39m\u001b[38;5;124mpositive\u001b[39m\u001b[38;5;124m'\u001b[39m: \u001b[38;5;241m1\u001b[39m, \u001b[38;5;124m'\u001b[39m\u001b[38;5;124mnegative\u001b[39m\u001b[38;5;124m'\u001b[39m: \u001b[38;5;241m-\u001b[39m\u001b[38;5;241m1\u001b[39m, \u001b[38;5;124m'\u001b[39m\u001b[38;5;124mneutral\u001b[39m\u001b[38;5;124m'\u001b[39m: \u001b[38;5;241m0\u001b[39m}    \n\u001b[1;32m      7\u001b[0m \u001b[38;5;66;03m# Map sentiment strings to integers\u001b[39;00m\n\u001b[0;32m----> 8\u001b[0m df_tmp\u001b[38;5;241m.\u001b[39mloc[:, \u001b[38;5;124m'\u001b[39m\u001b[38;5;124mllm_sentiment_int\u001b[39m\u001b[38;5;124m'\u001b[39m] \u001b[38;5;241m=\u001b[39m \u001b[43mdf_tmp\u001b[49m\u001b[43m[\u001b[49m\u001b[38;5;124;43m'\u001b[39;49m\u001b[38;5;124;43mllm_sentiment_str\u001b[39;49m\u001b[38;5;124;43m'\u001b[39;49m\u001b[43m]\u001b[49m\u001b[38;5;241;43m.\u001b[39;49m\u001b[43mmap\u001b[49m\u001b[43m(\u001b[49m\u001b[43msentiment_mapping\u001b[49m\u001b[43m)\u001b[49m\n\u001b[1;32m      9\u001b[0m \u001b[38;5;66;03m# Convert timestamp to datetime\u001b[39;00m\n\u001b[1;32m     10\u001b[0m df_tmp[\u001b[38;5;124m'\u001b[39m\u001b[38;5;124mtimestamp_DDMMYY\u001b[39m\u001b[38;5;124m'\u001b[39m] \u001b[38;5;241m=\u001b[39m pd\u001b[38;5;241m.\u001b[39mto_datetime(df_tmp[\u001b[38;5;124m'\u001b[39m\u001b[38;5;124mtimestamp\u001b[39m\u001b[38;5;124m'\u001b[39m], unit\u001b[38;5;241m=\u001b[39m\u001b[38;5;124m'\u001b[39m\u001b[38;5;124ms\u001b[39m\u001b[38;5;124m'\u001b[39m)    \n",
      "File \u001b[0;32m~/Programme/Anaconda3/envs/botproject/lib/python3.9/site-packages/pandas/core/series.py:4700\u001b[0m, in \u001b[0;36mSeries.map\u001b[0;34m(self, arg, na_action)\u001b[0m\n\u001b[1;32m   4620\u001b[0m \u001b[38;5;28;01mdef\u001b[39;00m \u001b[38;5;21mmap\u001b[39m(\n\u001b[1;32m   4621\u001b[0m     \u001b[38;5;28mself\u001b[39m,\n\u001b[1;32m   4622\u001b[0m     arg: Callable \u001b[38;5;241m|\u001b[39m Mapping \u001b[38;5;241m|\u001b[39m Series,\n\u001b[1;32m   4623\u001b[0m     na_action: Literal[\u001b[38;5;124m\"\u001b[39m\u001b[38;5;124mignore\u001b[39m\u001b[38;5;124m\"\u001b[39m] \u001b[38;5;241m|\u001b[39m \u001b[38;5;28;01mNone\u001b[39;00m \u001b[38;5;241m=\u001b[39m \u001b[38;5;28;01mNone\u001b[39;00m,\n\u001b[1;32m   4624\u001b[0m ) \u001b[38;5;241m-\u001b[39m\u001b[38;5;241m>\u001b[39m Series:\n\u001b[1;32m   4625\u001b[0m \u001b[38;5;250m    \u001b[39m\u001b[38;5;124;03m\"\"\"\u001b[39;00m\n\u001b[1;32m   4626\u001b[0m \u001b[38;5;124;03m    Map values of Series according to an input mapping or function.\u001b[39;00m\n\u001b[1;32m   4627\u001b[0m \n\u001b[0;32m   (...)\u001b[0m\n\u001b[1;32m   4698\u001b[0m \u001b[38;5;124;03m    dtype: object\u001b[39;00m\n\u001b[1;32m   4699\u001b[0m \u001b[38;5;124;03m    \"\"\"\u001b[39;00m\n\u001b[0;32m-> 4700\u001b[0m     new_values \u001b[38;5;241m=\u001b[39m \u001b[38;5;28;43mself\u001b[39;49m\u001b[38;5;241;43m.\u001b[39;49m\u001b[43m_map_values\u001b[49m\u001b[43m(\u001b[49m\u001b[43marg\u001b[49m\u001b[43m,\u001b[49m\u001b[43m \u001b[49m\u001b[43mna_action\u001b[49m\u001b[38;5;241;43m=\u001b[39;49m\u001b[43mna_action\u001b[49m\u001b[43m)\u001b[49m\n\u001b[1;32m   4701\u001b[0m     \u001b[38;5;28;01mreturn\u001b[39;00m \u001b[38;5;28mself\u001b[39m\u001b[38;5;241m.\u001b[39m_constructor(new_values, index\u001b[38;5;241m=\u001b[39m\u001b[38;5;28mself\u001b[39m\u001b[38;5;241m.\u001b[39mindex, copy\u001b[38;5;241m=\u001b[39m\u001b[38;5;28;01mFalse\u001b[39;00m)\u001b[38;5;241m.\u001b[39m__finalize__(\n\u001b[1;32m   4702\u001b[0m         \u001b[38;5;28mself\u001b[39m, method\u001b[38;5;241m=\u001b[39m\u001b[38;5;124m\"\u001b[39m\u001b[38;5;124mmap\u001b[39m\u001b[38;5;124m\"\u001b[39m\n\u001b[1;32m   4703\u001b[0m     )\n",
      "File \u001b[0;32m~/Programme/Anaconda3/envs/botproject/lib/python3.9/site-packages/pandas/core/base.py:921\u001b[0m, in \u001b[0;36mIndexOpsMixin._map_values\u001b[0;34m(self, mapper, na_action, convert)\u001b[0m\n\u001b[1;32m    918\u001b[0m \u001b[38;5;28;01mif\u001b[39;00m \u001b[38;5;28misinstance\u001b[39m(arr, ExtensionArray):\n\u001b[1;32m    919\u001b[0m     \u001b[38;5;28;01mreturn\u001b[39;00m arr\u001b[38;5;241m.\u001b[39mmap(mapper, na_action\u001b[38;5;241m=\u001b[39mna_action)\n\u001b[0;32m--> 921\u001b[0m \u001b[38;5;28;01mreturn\u001b[39;00m \u001b[43malgorithms\u001b[49m\u001b[38;5;241;43m.\u001b[39;49m\u001b[43mmap_array\u001b[49m\u001b[43m(\u001b[49m\u001b[43marr\u001b[49m\u001b[43m,\u001b[49m\u001b[43m \u001b[49m\u001b[43mmapper\u001b[49m\u001b[43m,\u001b[49m\u001b[43m \u001b[49m\u001b[43mna_action\u001b[49m\u001b[38;5;241;43m=\u001b[39;49m\u001b[43mna_action\u001b[49m\u001b[43m,\u001b[49m\u001b[43m \u001b[49m\u001b[43mconvert\u001b[49m\u001b[38;5;241;43m=\u001b[39;49m\u001b[43mconvert\u001b[49m\u001b[43m)\u001b[49m\n",
      "File \u001b[0;32m~/Programme/Anaconda3/envs/botproject/lib/python3.9/site-packages/pandas/core/algorithms.py:1732\u001b[0m, in \u001b[0;36mmap_array\u001b[0;34m(arr, mapper, na_action, convert)\u001b[0m\n\u001b[1;32m   1728\u001b[0m     mapper \u001b[38;5;241m=\u001b[39m mapper[mapper\u001b[38;5;241m.\u001b[39mindex\u001b[38;5;241m.\u001b[39mnotna()]\n\u001b[1;32m   1730\u001b[0m \u001b[38;5;66;03m# Since values were input this means we came from either\u001b[39;00m\n\u001b[1;32m   1731\u001b[0m \u001b[38;5;66;03m# a dict or a series and mapper should be an index\u001b[39;00m\n\u001b[0;32m-> 1732\u001b[0m indexer \u001b[38;5;241m=\u001b[39m \u001b[43mmapper\u001b[49m\u001b[38;5;241;43m.\u001b[39;49m\u001b[43mindex\u001b[49m\u001b[38;5;241;43m.\u001b[39;49m\u001b[43mget_indexer\u001b[49m\u001b[43m(\u001b[49m\u001b[43marr\u001b[49m\u001b[43m)\u001b[49m\n\u001b[1;32m   1733\u001b[0m new_values \u001b[38;5;241m=\u001b[39m take_nd(mapper\u001b[38;5;241m.\u001b[39m_values, indexer)\n\u001b[1;32m   1735\u001b[0m \u001b[38;5;28;01mreturn\u001b[39;00m new_values\n",
      "File \u001b[0;32m~/Programme/Anaconda3/envs/botproject/lib/python3.9/site-packages/pandas/core/indexes/base.py:3953\u001b[0m, in \u001b[0;36mIndex.get_indexer\u001b[0;34m(self, target, method, limit, tolerance)\u001b[0m\n\u001b[1;32m   3948\u001b[0m     target \u001b[38;5;241m=\u001b[39m target\u001b[38;5;241m.\u001b[39mastype(dtype, copy\u001b[38;5;241m=\u001b[39m\u001b[38;5;28;01mFalse\u001b[39;00m)\n\u001b[1;32m   3949\u001b[0m     \u001b[38;5;28;01mreturn\u001b[39;00m this\u001b[38;5;241m.\u001b[39m_get_indexer(\n\u001b[1;32m   3950\u001b[0m         target, method\u001b[38;5;241m=\u001b[39mmethod, limit\u001b[38;5;241m=\u001b[39mlimit, tolerance\u001b[38;5;241m=\u001b[39mtolerance\n\u001b[1;32m   3951\u001b[0m     )\n\u001b[0;32m-> 3953\u001b[0m \u001b[38;5;28;01mreturn\u001b[39;00m \u001b[38;5;28;43mself\u001b[39;49m\u001b[38;5;241;43m.\u001b[39;49m\u001b[43m_get_indexer\u001b[49m\u001b[43m(\u001b[49m\u001b[43mtarget\u001b[49m\u001b[43m,\u001b[49m\u001b[43m \u001b[49m\u001b[43mmethod\u001b[49m\u001b[43m,\u001b[49m\u001b[43m \u001b[49m\u001b[43mlimit\u001b[49m\u001b[43m,\u001b[49m\u001b[43m \u001b[49m\u001b[43mtolerance\u001b[49m\u001b[43m)\u001b[49m\n",
      "File \u001b[0;32m~/Programme/Anaconda3/envs/botproject/lib/python3.9/site-packages/pandas/core/indexes/base.py:3980\u001b[0m, in \u001b[0;36mIndex._get_indexer\u001b[0;34m(self, target, method, limit, tolerance)\u001b[0m\n\u001b[1;32m   3977\u001b[0m     \u001b[38;5;28;01melse\u001b[39;00m:\n\u001b[1;32m   3978\u001b[0m         tgt_values \u001b[38;5;241m=\u001b[39m target\u001b[38;5;241m.\u001b[39m_get_engine_target()\n\u001b[0;32m-> 3980\u001b[0m     indexer \u001b[38;5;241m=\u001b[39m \u001b[38;5;28;43mself\u001b[39;49m\u001b[38;5;241;43m.\u001b[39;49m\u001b[43m_engine\u001b[49m\u001b[38;5;241;43m.\u001b[39;49m\u001b[43mget_indexer\u001b[49m\u001b[43m(\u001b[49m\u001b[43mtgt_values\u001b[49m\u001b[43m)\u001b[49m\n\u001b[1;32m   3982\u001b[0m \u001b[38;5;28;01mreturn\u001b[39;00m ensure_platform_int(indexer)\n",
      "File \u001b[0;32mindex.pyx:351\u001b[0m, in \u001b[0;36mpandas._libs.index.IndexEngine.get_indexer\u001b[0;34m()\u001b[0m\n",
      "File \u001b[0;32mpandas/_libs/hashtable_class_helper.pxi:7132\u001b[0m, in \u001b[0;36mpandas._libs.hashtable.PyObjectHashTable.lookup\u001b[0;34m()\u001b[0m\n",
      "\u001b[0;31mTypeError\u001b[0m: unhashable type: 'list'"
     ]
    }
   ],
   "source": [
    "df_sentiment_llm = get_llm_sentiment_df(df_sentiment)"
   ]
  },
  {
   "cell_type": "code",
   "execution_count": null,
   "id": "e70aee2c-a797-4181-b19d-c3cb5343a426",
   "metadata": {},
   "outputs": [],
   "source": [
    "df_sentiment_llm_monthly = get_monthly_data(df_sentiment_llm, subset_list=subset_list, llm=True)"
   ]
  },
  {
   "cell_type": "code",
   "execution_count": null,
   "id": "dfeba959-59d9-4606-ab9e-c0c41265d1cd",
   "metadata": {},
   "outputs": [],
   "source": [
    "subset_list = [\"sentiment_mean\", \"sentiment_binary_int_mean\", \"sentiment_binary_int\", \"llm_sentiment_int\", \"llm_binary_int_mean\", \"pos_sentiment_count\", \"negative_sentiment_count\"]\n",
    "plot_sentiment_over_time(df_sentiment_llm_monthly, subset_list)\n"
   ]
  },
  {
   "cell_type": "markdown",
   "id": "28641b11-6add-414b-be1f-c905203bf361",
   "metadata": {},
   "source": [
    "# ToDOs and Stuff"
   ]
  },
  {
   "cell_type": "code",
   "execution_count": null,
   "id": "e322ad7e-b54e-4871-9b03-a02a7e720a46",
   "metadata": {},
   "outputs": [],
   "source": [
    "print(f\"the following keys can be used to analyse the response by the llm : {list(response.keys())}\")"
   ]
  },
  {
   "cell_type": "code",
   "execution_count": null,
   "id": "ccff7e4b-05c3-4ad4-ba64-495fd9324bc4",
   "metadata": {},
   "outputs": [],
   "source": []
  },
  {
   "cell_type": "code",
   "execution_count": null,
   "id": "03a38c34-99a7-4582-98aa-fbffa89a1248",
   "metadata": {},
   "outputs": [],
   "source": [
    "###  tool example\n",
    "\n",
    "tools=[{\n",
    "  'type': 'function',\n",
    "  'function': {\n",
    "    'name': 'get_current_weather',\n",
    "    'description': 'Get the current weather for a city',\n",
    "    'parameters': {\n",
    "      'type': 'object',\n",
    "      'properties': {\n",
    "        'city': {\n",
    "          'type': 'string',\n",
    "          'description': 'The name of the city',\n",
    "        },\n",
    "      },\n",
    "      'required': ['city'],\n",
    "    },\n",
    "  },\n",
    "},\n",
    "]\n",
    "\n",
    "\n",
    "## maybe use it to build a likert skale tool?\n",
    "\n",
    "\n",
    "tools=[{\n",
    "  'type': 'function',\n",
    "  'function': {\n",
    "    'name': 'get_sentiment',\n",
    "    'description': 'Get the sentiment string',\n",
    "    'parameters': {\n",
    "      'type': 'object',\n",
    "      'properties': {\n",
    "        'sentiment': {\n",
    "          'type': 'string',\n",
    "          'description': 'positive or negative or neutral',\n",
    "        },\n",
    "      },\n",
    "      'required': ['sentiment'],\n",
    "    },\n",
    "  },\n",
    "},\n",
    "]\n",
    "    \n",
    "    "
   ]
  },
  {
   "cell_type": "code",
   "execution_count": null,
   "id": "ab701780-29e4-4325-94b4-75c0cdd2b55e",
   "metadata": {},
   "outputs": [],
   "source": []
  }
 ],
 "metadata": {
  "kernelspec": {
   "display_name": "Python 3 (ipykernel)",
   "language": "python",
   "name": "python3"
  },
  "language_info": {
   "codemirror_mode": {
    "name": "ipython",
    "version": 3
   },
   "file_extension": ".py",
   "mimetype": "text/x-python",
   "name": "python",
   "nbconvert_exporter": "python",
   "pygments_lexer": "ipython3",
   "version": "3.9.19"
  },
  "toc": {
   "base_numbering": 1,
   "nav_menu": {},
   "number_sections": true,
   "sideBar": true,
   "skip_h1_title": false,
   "title_cell": "Table of Contents",
   "title_sidebar": "Contents",
   "toc_cell": false,
   "toc_position": {},
   "toc_section_display": true,
   "toc_window_display": false
  },
  "varInspector": {
   "cols": {
    "lenName": 16,
    "lenType": 16,
    "lenVar": 40
   },
   "kernels_config": {
    "python": {
     "delete_cmd_postfix": "",
     "delete_cmd_prefix": "del ",
     "library": "var_list.py",
     "varRefreshCmd": "print(var_dic_list())"
    },
    "r": {
     "delete_cmd_postfix": ") ",
     "delete_cmd_prefix": "rm(",
     "library": "var_list.r",
     "varRefreshCmd": "cat(var_dic_list()) "
    }
   },
   "types_to_exclude": [
    "module",
    "function",
    "builtin_function_or_method",
    "instance",
    "_Feature"
   ],
   "window_display": false
  }
 },
 "nbformat": 4,
 "nbformat_minor": 5
}
